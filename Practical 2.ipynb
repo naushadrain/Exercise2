{
 "cells": [
  {
   "cell_type": "code",
   "execution_count": 1,
   "id": "5452accd",
   "metadata": {},
   "outputs": [],
   "source": [
    "#Task 1"
   ]
  },
  {
   "cell_type": "code",
   "execution_count": 2,
   "id": "fb7f6597",
   "metadata": {},
   "outputs": [
    {
     "name": "stdout",
     "output_type": "stream",
     "text": [
      "The total is 100\n"
     ]
    }
   ],
   "source": [
    "total = 100\n",
    "print(\"The total is\",total)"
   ]
  },
  {
   "cell_type": "code",
   "execution_count": 3,
   "id": "c1aae77f",
   "metadata": {},
   "outputs": [],
   "source": [
    "#Task 2"
   ]
  },
  {
   "cell_type": "code",
   "execution_count": 4,
   "id": "3a99dc5c",
   "metadata": {},
   "outputs": [
    {
     "name": "stdout",
     "output_type": "stream",
     "text": [
      "The total is now 199\n"
     ]
    }
   ],
   "source": [
    "total = total + 99\n",
    "print(\"The total is now\", total)"
   ]
  },
  {
   "cell_type": "code",
   "execution_count": 5,
   "id": "7d9bd20d",
   "metadata": {},
   "outputs": [],
   "source": [
    "#Task 3"
   ]
  },
  {
   "cell_type": "code",
   "execution_count": 6,
   "id": "6edcfcbc",
   "metadata": {},
   "outputs": [
    {
     "name": "stdout",
     "output_type": "stream",
     "text": [
      "The total is 198\n"
     ]
    }
   ],
   "source": [
    "total = total - 1\n",
    "print(\"The total is\", total)"
   ]
  },
  {
   "cell_type": "code",
   "execution_count": 7,
   "id": "1a2c9662",
   "metadata": {},
   "outputs": [],
   "source": [
    "#Task 4"
   ]
  },
  {
   "cell_type": "code",
   "execution_count": 9,
   "id": "ba3a1f5a",
   "metadata": {},
   "outputs": [
    {
     "name": "stdout",
     "output_type": "stream",
     "text": [
      "19.64\n"
     ]
    }
   ],
   "source": [
    "total = 98.2\n",
    "count = 5\n",
    "average = total / count\n",
    "print(average)"
   ]
  },
  {
   "cell_type": "code",
   "execution_count": 10,
   "id": "517285b5",
   "metadata": {},
   "outputs": [],
   "source": [
    "#Task 5"
   ]
  },
  {
   "cell_type": "code",
   "execution_count": 19,
   "id": "9f1dbcf8",
   "metadata": {},
   "outputs": [
    {
     "data": {
      "text/plain": [
       "bool"
      ]
     },
     "execution_count": 19,
     "metadata": {},
     "output_type": "execute_result"
    }
   ],
   "source": [
    "type(False)"
   ]
  },
  {
   "cell_type": "code",
   "execution_count": 14,
   "id": "3e1e021e",
   "metadata": {},
   "outputs": [
    {
     "data": {
      "text/plain": [
       "int"
      ]
     },
     "execution_count": 14,
     "metadata": {},
     "output_type": "execute_result"
    }
   ],
   "source": [
    "type(1000)"
   ]
  },
  {
   "cell_type": "code",
   "execution_count": 15,
   "id": "7bcad9bb",
   "metadata": {},
   "outputs": [
    {
     "data": {
      "text/plain": [
       "float"
      ]
     },
     "execution_count": 15,
     "metadata": {},
     "output_type": "execute_result"
    }
   ],
   "source": [
    "type(100.111)"
   ]
  },
  {
   "cell_type": "code",
   "execution_count": 16,
   "id": "f6edb156",
   "metadata": {},
   "outputs": [
    {
     "data": {
      "text/plain": [
       "str"
      ]
     },
     "execution_count": 16,
     "metadata": {},
     "output_type": "execute_result"
    }
   ],
   "source": [
    "type(\"Hello\")"
   ]
  },
  {
   "cell_type": "code",
   "execution_count": 17,
   "id": "35d301d7",
   "metadata": {},
   "outputs": [
    {
     "data": {
      "text/plain": [
       "bool"
      ]
     },
     "execution_count": 17,
     "metadata": {},
     "output_type": "execute_result"
    }
   ],
   "source": [
    "type(True)"
   ]
  },
  {
   "cell_type": "code",
   "execution_count": 18,
   "id": "9e08a0b6",
   "metadata": {},
   "outputs": [
    {
     "data": {
      "text/plain": [
       "float"
      ]
     },
     "execution_count": 18,
     "metadata": {},
     "output_type": "execute_result"
    }
   ],
   "source": [
    "type(100/5)"
   ]
  },
  {
   "cell_type": "code",
   "execution_count": 20,
   "id": "5b6ac3ee",
   "metadata": {},
   "outputs": [
    {
     "data": {
      "text/plain": [
       "int"
      ]
     },
     "execution_count": 20,
     "metadata": {},
     "output_type": "execute_result"
    }
   ],
   "source": [
    "type(100//5)"
   ]
  },
  {
   "cell_type": "code",
   "execution_count": 21,
   "id": "05159f1a",
   "metadata": {},
   "outputs": [],
   "source": [
    "#Task 6"
   ]
  },
  {
   "cell_type": "code",
   "execution_count": 23,
   "id": "35809bbd",
   "metadata": {},
   "outputs": [
    {
     "data": {
      "text/plain": [
       "'ABC ABC ABC ABC ABC ABC ABC ABC ABC ABC '"
      ]
     },
     "execution_count": 23,
     "metadata": {},
     "output_type": "execute_result"
    }
   ],
   "source": [
    "\"ABC \" * 10"
   ]
  },
  {
   "cell_type": "code",
   "execution_count": 24,
   "id": "156efa41",
   "metadata": {},
   "outputs": [],
   "source": [
    "#Task 7"
   ]
  },
  {
   "cell_type": "code",
   "execution_count": 27,
   "id": "36f3fc77",
   "metadata": {},
   "outputs": [
    {
     "name": "stdout",
     "output_type": "stream",
     "text": [
      "The length of my name is : 14\n"
     ]
    }
   ],
   "source": [
    "name=\"md naushad rain\"\n",
    "address=\"Kathamundu\"\n",
    "contact=\"9819931015\"\n",
    "print(\"The length of my name is :\",len(name))"
   ]
  },
  {
   "cell_type": "code",
   "execution_count": 28,
   "id": "f0fdf785",
   "metadata": {},
   "outputs": [],
   "source": [
    "#Task 8"
   ]
  },
  {
   "cell_type": "code",
   "execution_count": 29,
   "id": "c3e41bc6",
   "metadata": {},
   "outputs": [
    {
     "name": "stdout",
     "output_type": "stream",
     "text": [
      "Enter your age :20\n"
     ]
    }
   ],
   "source": [
    "age = input(\"Enter your age :\")"
   ]
  },
  {
   "cell_type": "code",
   "execution_count": 30,
   "id": "76aae9a2",
   "metadata": {},
   "outputs": [],
   "source": [
    "#Task 9"
   ]
  },
  {
   "cell_type": "code",
   "execution_count": 31,
   "id": "4ade2bb9",
   "metadata": {},
   "outputs": [
    {
     "name": "stdout",
     "output_type": "stream",
     "text": [
      "Enter a first number:24\n",
      "Enter a second number:67\n",
      "The product of 2 number is: 1608\n"
     ]
    }
   ],
   "source": [
    "num1 = int(input(\"Enter a first number:\"))\n",
    "num2 = int(input(\"Enter a second number:\"))\n",
    "a = num1 * num2\n",
    "print(\"The product of 2 number is:\",a)"
   ]
  },
  {
   "cell_type": "code",
   "execution_count": 32,
   "id": "f398601f",
   "metadata": {},
   "outputs": [],
   "source": [
    "#Task 10"
   ]
  },
  {
   "cell_type": "code",
   "execution_count": 33,
   "id": "8a6be904",
   "metadata": {},
   "outputs": [
    {
     "name": "stdout",
     "output_type": "stream",
     "text": [
      "I would have 'thought' you knew better!\n"
     ]
    }
   ],
   "source": [
    "comment = \"I would have 'thought' you knew better!\"\n",
    "print(comment)"
   ]
  },
  {
   "cell_type": "code",
   "execution_count": 38,
   "id": "9bb4ccbe",
   "metadata": {},
   "outputs": [],
   "source": [
    "#Task 11"
   ]
  },
  {
   "cell_type": "code",
   "execution_count": 39,
   "id": "46db78a3",
   "metadata": {},
   "outputs": [
    {
     "name": "stdout",
     "output_type": "stream",
     "text": [
      "This text includes characters such as '' ' and \",\n",
      "\tThis is a new line that starts with a tab \n",
      "\t This new line starts with two tabs\n"
     ]
    }
   ],
   "source": [
    "print(\"This text includes characters such as '\\' '\"' and \"'\",\" \"\\n\\tThis is a new line that starts with a tab \"\"\\n\\t This new line starts with two tabs\")"
   ]
  },
  {
   "cell_type": "code",
   "execution_count": 44,
   "id": "0618e22f",
   "metadata": {},
   "outputs": [],
   "source": [
    "#Task 12"
   ]
  },
  {
   "cell_type": "code",
   "execution_count": 52,
   "id": "da641aff",
   "metadata": {},
   "outputs": [
    {
     "name": "stdout",
     "output_type": "stream",
     "text": [
      "\\\\\\\\\\\\\\\\\\\\\\\\\\\\\\\\\\\\\\\\\\\n",
      " Hello there! \n",
      "\\\\\\\\\\\\\\\\\\\\\\\\\\\\\\\\\\\\\\\\\\\n"
     ]
    }
   ],
   "source": [
    "print(\"\\\\\"\"\\\\\"\"\\\\\"\"\\\\\"\"\\\\\"\"\\\\\"\"\\\\\"\"\\\\\"\"\\\\\"\"\\\\\"\"\\\\\"\"\\\\\"\"\\\\\"\"\\\\\"\"\\\\\"\"\\\\\"\"\\\\\"\"\\\\\"\"\\\\\"\"\\\\\"\"\\\\\"\n",
    "      '\\n Hello there! \\n'\n",
    "      \"\\\\\"\"\\\\\"\"\\\\\"\"\\\\\"\"\\\\\"\"\\\\\"\"\\\\\"\"\\\\\"\"\\\\\"\"\\\\\"\"\\\\\"\"\\\\\"\"\\\\\"\"\\\\\"\"\\\\\"\"\\\\\"\"\\\\\"\"\\\\\"\"\\\\\"\"\\\\\"\"\\\\\")"
   ]
  },
  {
   "cell_type": "code",
   "execution_count": 55,
   "id": "458495b0",
   "metadata": {},
   "outputs": [],
   "source": [
    "#Task 13"
   ]
  },
  {
   "cell_type": "code",
   "execution_count": 54,
   "id": "4eb4f4e7",
   "metadata": {},
   "outputs": [
    {
     "name": "stdout",
     "output_type": "stream",
     "text": [
      "This text spans three lines,\n",
      "and includes both single ('),\n",
      "and double quotes (\")\n"
     ]
    }
   ],
   "source": [
    "print(\"This text spans three lines,\")\n",
    "print(\"and includes both single ('),\")\n",
    "print('and double quotes (\")')"
   ]
  },
  {
   "cell_type": "code",
   "execution_count": 56,
   "id": "322807fc",
   "metadata": {},
   "outputs": [],
   "source": [
    "#Task 14"
   ]
  },
  {
   "cell_type": "code",
   "execution_count": 59,
   "id": "02b960fe",
   "metadata": {},
   "outputs": [
    {
     "data": {
      "text/plain": [
       "'l'"
      ]
     },
     "execution_count": 59,
     "metadata": {},
     "output_type": "execute_result"
    }
   ],
   "source": [
    "surname = \"Palin\"\n",
    "surname[2]"
   ]
  },
  {
   "cell_type": "code",
   "execution_count": 60,
   "id": "28bbb3ef",
   "metadata": {},
   "outputs": [],
   "source": [
    "#Task 15"
   ]
  },
  {
   "cell_type": "code",
   "execution_count": 65,
   "id": "f3c2f423",
   "metadata": {},
   "outputs": [
    {
     "ename": "IndexError",
     "evalue": "string index out of range",
     "output_type": "error",
     "traceback": [
      "\u001b[1;31m---------------------------------------------------------------------------\u001b[0m",
      "\u001b[1;31mIndexError\u001b[0m                                Traceback (most recent call last)",
      "\u001b[1;32m~\\AppData\\Local\\Temp/ipykernel_3036/1746396257.py\u001b[0m in \u001b[0;36m<module>\u001b[1;34m\u001b[0m\n\u001b[0;32m      1\u001b[0m \u001b[0msurname\u001b[0m \u001b[1;33m=\u001b[0m \u001b[1;34m\"Palin\"\u001b[0m\u001b[1;33m\u001b[0m\u001b[1;33m\u001b[0m\u001b[0m\n\u001b[1;32m----> 2\u001b[1;33m \u001b[0msurname\u001b[0m\u001b[1;33m[\u001b[0m\u001b[1;36m10\u001b[0m\u001b[1;33m]\u001b[0m\u001b[1;33m\u001b[0m\u001b[1;33m\u001b[0m\u001b[0m\n\u001b[0m",
      "\u001b[1;31mIndexError\u001b[0m: string index out of range"
     ]
    }
   ],
   "source": [
    "surname = \"Palin\"\n",
    "surname[10]"
   ]
  },
  {
   "cell_type": "code",
   "execution_count": 66,
   "id": "8e615818",
   "metadata": {},
   "outputs": [],
   "source": [
    "#Task 16"
   ]
  },
  {
   "cell_type": "code",
   "execution_count": 68,
   "id": "12eee007",
   "metadata": {},
   "outputs": [
    {
     "data": {
      "text/plain": [
       "'a'"
      ]
     },
     "execution_count": 68,
     "metadata": {},
     "output_type": "execute_result"
    }
   ],
   "source": [
    "surname = \"Palin\"\n",
    "surname[-4]"
   ]
  },
  {
   "cell_type": "code",
   "execution_count": 69,
   "id": "a334fc55",
   "metadata": {},
   "outputs": [],
   "source": [
    "#Task 17"
   ]
  },
  {
   "cell_type": "code",
   "execution_count": 70,
   "id": "9402d04e",
   "metadata": {},
   "outputs": [
    {
     "data": {
      "text/plain": [
       "'alin'"
      ]
     },
     "execution_count": 70,
     "metadata": {},
     "output_type": "execute_result"
    }
   ],
   "source": [
    "surname = \"Palin\"\n",
    "surname[1:]"
   ]
  },
  {
   "cell_type": "code",
   "execution_count": 71,
   "id": "148b80d1",
   "metadata": {},
   "outputs": [],
   "source": [
    "#Task 18"
   ]
  },
  {
   "cell_type": "code",
   "execution_count": 73,
   "id": "b6ec06a7",
   "metadata": {},
   "outputs": [
    {
     "data": {
      "text/plain": [
       "'Pali'"
      ]
     },
     "execution_count": 73,
     "metadata": {},
     "output_type": "execute_result"
    }
   ],
   "source": [
    "surname = \"Palin\"\n",
    "surname[:4]"
   ]
  },
  {
   "cell_type": "code",
   "execution_count": 74,
   "id": "d1e5d75b",
   "metadata": {},
   "outputs": [],
   "source": [
    "#Task 19"
   ]
  },
  {
   "cell_type": "code",
   "execution_count": 75,
   "id": "4e4ad189",
   "metadata": {},
   "outputs": [
    {
     "data": {
      "text/plain": [
       "[2, 3, 5, 7, 13]"
      ]
     },
     "execution_count": 75,
     "metadata": {},
     "output_type": "execute_result"
    }
   ],
   "source": [
    "primes = [2, 3, 5, 7, 13, 17, 19, 23, 29, 31, 37, 41, 43, 47]\n",
    "primes[0:5]"
   ]
  },
  {
   "cell_type": "code",
   "execution_count": 76,
   "id": "e6ae4e62",
   "metadata": {},
   "outputs": [],
   "source": [
    "#Task 20"
   ]
  },
  {
   "cell_type": "code",
   "execution_count": 78,
   "id": "562e6bac",
   "metadata": {},
   "outputs": [
    {
     "name": "stdout",
     "output_type": "stream",
     "text": [
      "['Hem', 'Saiman', 'Terry', 'John', 'Michael', 'Eric', 'Terry', 'Graham']\n"
     ]
    }
   ],
   "source": [
    "names = [\"Terry\", \"John\", \"Michael\", \"Eric\", \"Terry\", \"Graham\"]\n",
    "names[0:0] =[\"Hem\",\"Saiman\"]\n",
    "print(names)"
   ]
  },
  {
   "cell_type": "code",
   "execution_count": 79,
   "id": "1a861431",
   "metadata": {},
   "outputs": [],
   "source": [
    "#Task 21"
   ]
  },
  {
   "cell_type": "code",
   "execution_count": 81,
   "id": "9f13ea38",
   "metadata": {},
   "outputs": [
    {
     "name": "stdout",
     "output_type": "stream",
     "text": [
      "[1, 2, 3, 1, 2, 3, 1, 2, 3, 1, 2, 3, 1, 2, 3]\n"
     ]
    }
   ],
   "source": [
    "nums = [1,2,3] * 5\n",
    "print(nums)"
   ]
  },
  {
   "cell_type": "code",
   "execution_count": 82,
   "id": "edafea65",
   "metadata": {},
   "outputs": [],
   "source": [
    "#Task 22"
   ]
  },
  {
   "cell_type": "code",
   "execution_count": 83,
   "id": "2fa444df",
   "metadata": {},
   "outputs": [],
   "source": [
    "# Assignment :The assignment operator, denoted by the “=” symbol, is the operator that is used to assign values to variables in Python. \n",
    "# Data-type :Data types are the classification or categorization of knowledge items. \n",
    "# Argument : An argument is the value that are sent to the function when it is called.\n",
    "# Indexing : is a way to refer the individual items within an iterable by its position.\n",
    "# Slicing :Slicing operations are similar to indexing type operations but are more powerful, and able to access multiple characters rather than single characters only.\n",
    "# Mutable : A mutable value can be changed after it has been created. \n",
    "# Immutable : An immutable value can never be changed once it has been created. "
   ]
  },
  {
   "cell_type": "code",
   "execution_count": null,
   "id": "313ab732",
   "metadata": {},
   "outputs": [],
   "source": []
  }
 ],
 "metadata": {
  "kernelspec": {
   "display_name": "Python 3 (ipykernel)",
   "language": "python",
   "name": "python3"
  },
  "language_info": {
   "codemirror_mode": {
    "name": "ipython",
    "version": 3
   },
   "file_extension": ".py",
   "mimetype": "text/x-python",
   "name": "python",
   "nbconvert_exporter": "python",
   "pygments_lexer": "ipython3",
   "version": "3.9.7"
  }
 },
 "nbformat": 4,
 "nbformat_minor": 5
}
